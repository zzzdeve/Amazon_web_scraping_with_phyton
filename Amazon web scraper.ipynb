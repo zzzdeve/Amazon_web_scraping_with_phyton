{
 "cells": [
  {
   "cell_type": "code",
   "execution_count": 20,
   "id": "558e32ca-5a45-4f09-adc6-f297348c2de8",
   "metadata": {
    "scrolled": true
   },
   "outputs": [
    {
     "data": {
      "text/plain": [
       "'Price:\\n                   \\n\\n\\n\\n\\n                       $27.54\\n                      \\n\\n                       $27.54\\n                      \\n\\n\\n                      -\\n                     \\n\\n\\n                       $28.99\\n                      \\n\\n                       $28.99'"
      ]
     },
     "execution_count": 20,
     "metadata": {},
     "output_type": "execute_result"
    }
   ],
   "source": [
    "from bs4 import BeautifulSoup\n",
    "import requests\n",
    "import smtplib\n",
    "import time\n",
    "import datetime\n",
    "import csv\n",
    "\n",
    "\n",
    "#putting http into url\n",
    "url = 'https://www.amazon.com/HYFOL-T-Shirts-American-Patriotic-Crewneck/dp/B0C4TJ82B6/ref=sr_1_1?content-id=amzn1.sym.6dcde48f-9fb7-4b1a-8240-bc1cddae550b%3Aamzn1.sym.6dcde48f-9fb7-4b1a-8240-bc1cddae550b&keywords=nasa+shirt&pd_rd_r=7762eb62-9ccd-4c07-8435-2c0f2433216f&pd_rd_w=F1aFQ&pd_rd_wg=DoL93&pf_rd_p=6dcde48f-9fb7-4b1a-8240-bc1cddae550b&pf_rd_r=X6W2KEF9GST01A5CZ2K4&qid=1694978100&sr=8-1'\n",
    "#get this information about http request from www.httpbin/get\n",
    "headers = {\"User-Agent\": \"Mozilla/5.0 (Windows NT 10.0; Win64; x64) AppleWebKit/537.36 (KHTML, like Gecko) Chrome/116.0.0.0 Safari/537.36\"}\n",
    "#getting html codes from the site and put it in page var\n",
    "page = requests.get(url, headers = headers)\n",
    "#Beautifullsoup lib allow us to handle html code in web page \n",
    "soup1 = BeautifulSoup(page.content, 'html.parser')\n",
    "#giving the output better visualisation\n",
    "soup2 = BeautifulSoup(soup1.prettify(), 'html.parser')\n",
    "#putting the selected html var(which we select by id) into title and price var\n",
    "title = soup2.find(id = 'productTitle').get_text()\n",
    "price = soup2.find(id = 'corePrice_desktop').get_text()\n",
    "#cut big amount of white space from both sides\n",
    "title.strip()\n",
    "price.strip()"
   ]
  },
  {
   "cell_type": "code",
   "execution_count": 21,
   "id": "b37b290f-3968-4e36-bc2c-4c4de9701c31",
   "metadata": {
    "scrolled": true
   },
   "outputs": [
    {
     "name": "stdout",
     "output_type": "stream",
     "text": [
      "H HYFOL Men's Graphic T-Shirts NASA USA Flag 100% Cotton Long Sleeve American Patriotic Crewneck Regular Tee Shirts\n",
      "\n",
      "                   \n",
      "\n",
      "\n",
      "\n",
      "\n",
      "                       $27.54\n",
      "                      \n",
      "\n",
      "                       $27.54\n",
      "                      \n",
      "\n",
      "\n",
      "                      -\n",
      "                     \n",
      "\n",
      "\n",
      "                       $28.99\n",
      "                      \n",
      "\n",
      "                       $28.99\n"
     ]
    }
   ],
   "source": [
    "#cut big amount of white space from both sides\n",
    "print(title.strip())\n",
    "print(price.strip()[6:])"
   ]
  },
  {
   "cell_type": "code",
   "execution_count": 30,
   "id": "41145fcc-79e6-4ff0-b7a7-cf8ff286d5df",
   "metadata": {},
   "outputs": [
    {
     "name": "stdout",
     "output_type": "stream",
     "text": [
      "H HYFOL Men's Graphic T-Shirts NASA USA Flag 100% Cotton Long Sleeve American Patriotic Crewneck Regular Tee Shirts\n",
      "27.54\n",
      "2023-09-18\n"
     ]
    }
   ],
   "source": [
    "#set the clean data to variables\n",
    "clean_title = title.strip()\n",
    "clean_price = (price.strip()[6:])\n",
    "clean_price = clean_price.strip()[1:6]\n",
    "print(clean_title)\n",
    "print(clean_price)\n",
    "#creating date when data has been saved\n",
    "today = datetime.date.today()\n",
    "print(today)"
   ]
  },
  {
   "cell_type": "code",
   "execution_count": 31,
   "id": "6738baee-7b4a-45c1-a47e-e1e8f950fed3",
   "metadata": {},
   "outputs": [
    {
     "data": {
      "text/plain": [
       "list"
      ]
     },
     "execution_count": 31,
     "metadata": {},
     "output_type": "execute_result"
    }
   ],
   "source": [
    "#crating header for columns\n",
    "header = [\"title\", \"price\", 'date']\n",
    "#putting the data into it\n",
    "data = [clean_title, clean_price, today]\n",
    "type(data)"
   ]
  },
  {
   "cell_type": "code",
   "execution_count": 32,
   "id": "a8684f36-217a-4c6f-a45b-1ec4769a4c39",
   "metadata": {},
   "outputs": [],
   "source": [
    "#creating a csv file\n",
    "with open('amazon_web_scraper.csv', 'w', newline = '', encoding ='UTF8') as f:\n",
    "    writer = csv.writer(f)\n",
    "    writer.writerow(header)\n",
    "    writer.writerow(data)"
   ]
  },
  {
   "cell_type": "code",
   "execution_count": 33,
   "id": "4d3fb05d-393f-4c5a-921d-e2746a1ea5b8",
   "metadata": {},
   "outputs": [],
   "source": [
    "#appending data('w'changed to 'a+' for append:we dont need header no more)\n",
    "with open('amazon_web_scraper.csv', 'a+', newline = '', encoding ='UTF8') as f:\n",
    "    writer = csv.writer(f)\n",
    "    writer.writerow(data)"
   ]
  },
  {
   "cell_type": "code",
   "execution_count": 72,
   "id": "76de2143-b457-4e71-80dd-001986081469",
   "metadata": {},
   "outputs": [],
   "source": [
    "def send_email():\n",
    "    server = smtplib.SMTP_SSL('smtp.gamil.com', 465)\n",
    "    server.ehlo()\n",
    "    #server start tls()\n",
    "    server.ehlo()\n",
    "    server.login('email name','pass')\n",
    "\n",
    "    subject = \"the subject of an email\"\n",
    "    body  = \"the body of the email\"\n",
    "\n",
    "    msg = f\"subject: {subject}\\n\\n{body}\"\n",
    "\n",
    "    server.sendemail('email name', msg)"
   ]
  },
  {
   "cell_type": "code",
   "execution_count": 45,
   "id": "5773ccf5-a55f-4c36-8ffa-48d472964104",
   "metadata": {},
   "outputs": [],
   "source": [
    "def check_price():\n",
    "    #putting http into url\n",
    "    url = 'https://www.amazon.com/HYFOL-T-Shirts-American-Patriotic-Crewneck/dp/B0C4TJ82B6/ref=sr_1_1?content-id=amzn1.sym.6dcde48f-9fb7-4b1a-8240-bc1cddae550b%3Aamzn1.sym.6dcde48f-9fb7-4b1a-8240-bc1cddae550b&keywords=nasa+shirt&pd_rd_r=7762eb62-9ccd-4c07-8435-2c0f2433216f&pd_rd_w=F1aFQ&pd_rd_wg=DoL93&pf_rd_p=6dcde48f-9fb7-4b1a-8240-bc1cddae550b&pf_rd_r=X6W2KEF9GST01A5CZ2K4&qid=1694978100&sr=8-1'\n",
    "    #get this information about http request from www.httpbin/get\n",
    "    headers = {\"User-Agent\": \"Mozilla/5.0 (Windows NT 10.0; Win64; x64) AppleWebKit/537.36 (KHTML, like Gecko) Chrome/116.0.0.0 Safari/537.36\"}\n",
    "    #getting html codes from the site and put it in page var\n",
    "    page = requests.get(url, headers = headers)\n",
    "    #Beautifullsoup lib allow us to handle html code in web page \n",
    "    soup1 = BeautifulSoup(page.content, 'html.parser')\n",
    "    #giving the output better visualisation\n",
    "    soup2 = BeautifulSoup(soup1.prettify(), 'html.parser')\n",
    "    #putting the selected html var(which we select by id) into title and price var\n",
    "    title = soup2.find(id = 'productTitle').get_text()\n",
    "    price = soup2.find(id = 'corePrice_desktop').get_text()\n",
    "    #cut big amount of white space from both sides\n",
    "    #set the clean data to variables\n",
    "    clean_title = title.strip()\n",
    "    clean_price = (price.strip()[6:])\n",
    "    clean_price = clean_price.strip()[1:6]\n",
    "    #creating date when data has been saved\n",
    "    today = datetime.date.today()\n",
    "    #crating header for columns\n",
    "    header = [\"title\", \"price\", 'date']\n",
    "    #putting the data into it\n",
    "    data = [clean_title, clean_price, today]\n",
    "    #appending data('w'changed to 'a+' for append:we dont need header no more)\n",
    "    with open('amazon_web_scraper.csv', 'a+', newline = '', encoding ='UTF8') as f:\n",
    "        writer = csv.writer(f)\n",
    "        writer.writerow(data)\n",
    "    #we want the pc send us a email if the price meet certain amount\n",
    "    if(clean_price < 20):\n",
    "        send_email()"
   ]
  },
  {
   "cell_type": "code",
   "execution_count": null,
   "id": "cc37e1a6-a9f5-46be-a170-b92c27f9ac76",
   "metadata": {},
   "outputs": [],
   "source": [
    "while(True):\n",
    "    check_price()\n",
    "    #check the web site every 5 sec\n",
    "    time.sleep(5)\n",
    "    #amazon web dosent give us the data efficently\n",
    "    #so we face an error in our code"
   ]
  },
  {
   "cell_type": "code",
   "execution_count": null,
   "id": "9bd89b5a-9050-4a23-8bca-0ccaf1148b18",
   "metadata": {},
   "outputs": [],
   "source": []
  }
 ],
 "metadata": {
  "kernelspec": {
   "display_name": "Python 3 (ipykernel)",
   "language": "python",
   "name": "python3"
  },
  "language_info": {
   "codemirror_mode": {
    "name": "ipython",
    "version": 3
   },
   "file_extension": ".py",
   "mimetype": "text/x-python",
   "name": "python",
   "nbconvert_exporter": "python",
   "pygments_lexer": "ipython3",
   "version": "3.11.5"
  }
 },
 "nbformat": 4,
 "nbformat_minor": 5
}
